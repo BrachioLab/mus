{
 "cells": [
  {
   "cell_type": "code",
   "execution_count": 6,
   "id": "7d3a6f29",
   "metadata": {},
   "outputs": [],
   "source": [
    "import os\n",
    "import sys\n",
    "import torch\n",
    "import torchvision\n",
    "import torchvision.models as pt_models\n",
    "import numpy as np\n",
    "import matplotlib.pyplot as plt\n",
    "\n",
    "import pandas as pd\n",
    "pd.set_option(\"display.max_rows\", None, \"display.max_columns\", None)\n",
    "\n",
    "sys.path.insert(0, \"..\")\n",
    "from my_models import *\n",
    "from qheader import *\n",
    "from q1_theory import *\n",
    "\n",
    "sys.path.insert(0, \"robustness_evaluations/robustness\")\n",
    "from robustness.datasets import ImageNet\n",
    "from robustness.model_utils import make_and_restore_model"
   ]
  },
  {
   "cell_type": "code",
   "execution_count": null,
   "id": "a196128a-13ca-4e38-b00b-e67b4799ba42",
   "metadata": {},
   "outputs": [],
   "source": []
  },
  {
   "cell_type": "code",
   "execution_count": 40,
   "id": "8c0c7998-3138-4757-9b66-a12405ed8c1a",
   "metadata": {},
   "outputs": [],
   "source": [
    "configs = make_default_configs() # qheader configs\n",
    "imagenet_dataset = configs[\"imagenet_dataset\"]\n",
    "exbits_list = load_exbits_list(\"resnet50\", \"shap\", 0.25, configs[\"exbits_dir\"], q=64, patch_size=28)\n",
    "exbits_list = exbits_list\n",
    "\n",
    "l2_3_0_path = \"robustness_evaluations/imagenet_l2_3_0.pt\"\n",
    "linf_4_path = \"robustness_evaluations/imagenet_linf_4.pt\"\n",
    "linf_8_path = \"robustness_evaluations/imagenet_linf_8.pt\"\n",
    "assert os.path.isfile(l2_3_0_path)\n",
    "assert os.path.isfile(linf_4_path)\n",
    "assert os.path.isfile(linf_8_path)\n",
    "\n",
    "base_saveto = \"robustness_evaluations/resnet50_base.csv\"\n",
    "l2_3_0_saveto = \"robustness_evaluations/WjBG_resnet50_l2_3_0.csv\"\n",
    "linf_4_saveto = \"robustness_evaluations/WjBG_resnet50_linf_4.csv\"\n",
    "linf_8_saveto = \"robustness_evaluations/WjBG_resnet50_linf_8.csv\"\n",
    "\n",
    "fig_saveto = \"fig_robust_resnet.png\"\n",
    "\n",
    "emp_r1_check_saveto = \"robustness_evaluations/emp_r1_check.csv\""
   ]
  },
  {
   "cell_type": "code",
   "execution_count": null,
   "id": "19c93328-fb35-49bc-86d3-e49fed4659f2",
   "metadata": {},
   "outputs": [],
   "source": []
  },
  {
   "cell_type": "code",
   "execution_count": 37,
   "id": "2a950914",
   "metadata": {},
   "outputs": [
    {
     "name": "stdout",
     "output_type": "stream",
     "text": [
      "=> loading checkpoint 'robustness_evaluations/imagenet_l2_3_0.pt'\n",
      "=> loaded checkpoint 'robustness_evaluations/imagenet_l2_3_0.pt' (epoch 105)\n",
      "=> loading checkpoint 'robustness_evaluations/imagenet_linf_4.pt'\n",
      "=> loaded checkpoint 'robustness_evaluations/imagenet_linf_4.pt' (epoch 1)\n",
      "=> loading checkpoint 'robustness_evaluations/imagenet_linf_8.pt'\n",
      "=> loaded checkpoint 'robustness_evaluations/imagenet_linf_8.pt' (epoch 11)\n"
     ]
    },
    {
     "data": {
      "text/plain": [
       "''"
      ]
     },
     "execution_count": 37,
     "metadata": {},
     "output_type": "execute_result"
    }
   ],
   "source": [
    "raw_adv_base = pt_models.resnet50(weights=pt_models.ResNet50_Weights.IMAGENET1K_V1)\n",
    "raw_adv_base.cpu()\n",
    "\n",
    "ids = ImageNet(\"/data/imagenet/\")\n",
    "raw_adv_l2_3_0, _ = make_and_restore_model(arch=\"resnet50\", dataset=ids, resume_path=l2_3_0_path)\n",
    "raw_adv_linf_4, _ = make_and_restore_model(arch=\"resnet50\", dataset=ids, resume_path=linf_4_path)\n",
    "raw_adv_linf_8, _ = make_and_restore_model(arch=\"resnet50\", dataset=ids, resume_path=linf_8_path)\n",
    "\n",
    "raw_adv_l2_3_0 = raw_adv_l2_3_0.model.cpu()\n",
    "raw_adv_linf_4 = raw_adv_linf_4.model.cpu()\n",
    "raw_adv_linf_8 = raw_adv_linf_8.model.cpu()\n",
    "\n",
    "mus_base = MuSImageNet(MyResNet(raw_adv_base), patch_size=28, q=64, lambd=0.25).eval()\n",
    "mus_l2_3_0 = MuSImageNet(MyResNet(raw_adv_l2_3_0), patch_size=28, q=64, lambd=0.25).eval()\n",
    "mus_linf_4 = MuSImageNet(MyResNet(raw_adv_linf_4), patch_size=28, q=64, lambd=0.25).eval()\n",
    "mus_linf_8 = MuSImageNet(MyResNet(raw_adv_linf_8), patch_size=28, q=64, lambd=0.25).eval()\n",
    "\n",
    "adv_base = MuSImageNet(MyResNet(raw_adv_base), patch_size=28, q=64, lambd=1.0).eval()\n",
    "adv_l2_3_0 = MuSImageNet(MyResNet(raw_adv_l2_3_0), patch_size=28, q=64, lambd=1.0).eval()\n",
    "adv_linf_4 = MuSImageNet(MyResNet(raw_adv_linf_4), patch_size=28, q=64, lambd=1.0).eval()\n",
    "adv_linf_8 = MuSImageNet(MyResNet(raw_adv_linf_8), patch_size=28, q=64, lambd=1.0).eval()\n",
    ";"
   ]
  },
  {
   "cell_type": "code",
   "execution_count": null,
   "id": "2771be2d-2217-4143-ab94-7ee9bcd929d5",
   "metadata": {},
   "outputs": [],
   "source": []
  },
  {
   "cell_type": "code",
   "execution_count": 4,
   "id": "772308f0-e8df-4a0c-a0c0-7abdecfed039",
   "metadata": {},
   "outputs": [
    {
     "name": "stdout",
     "output_type": "stream",
     "text": [
      "Will save to: robustness_evaluations/resnet50_base.csv\n"
     ]
    },
    {
     "name": "stderr",
     "output_type": "stream",
     "text": [
      "lam 0.2500, ones (0.0110, mu 0.2460), exbs (0.0035, mu 0.1105), : 100%|██████████| 2000/2000 [06:23<00:00,  5.22it/s]\n"
     ]
    }
   ],
   "source": [
    "base_df = q1t_test_radii(mus_base, exbits_list, imagenet_dataset, csv_saveto=base_saveto)"
   ]
  },
  {
   "cell_type": "code",
   "execution_count": 5,
   "id": "68cd534c-6df2-4229-8106-e30b7041306b",
   "metadata": {},
   "outputs": [
    {
     "name": "stdout",
     "output_type": "stream",
     "text": [
      "Will save to: robustness_evaluations/WjBG_resnet50_l2_3_0.csv\n"
     ]
    },
    {
     "name": "stderr",
     "output_type": "stream",
     "text": [
      "lam 0.2500, ones (0.0045, mu 0.0480), exbs (0.0015, mu 0.0190), : 100%|██████████| 2000/2000 [06:22<00:00,  5.23it/s]\n"
     ]
    }
   ],
   "source": [
    "l2_3_0_df = q1t_test_radii(mus_l2_3_0, exbits_list, imagenet_dataset, csv_saveto=l2_3_0_saveto)"
   ]
  },
  {
   "cell_type": "code",
   "execution_count": 6,
   "id": "327c0854-96f8-4a27-9f69-0bbd77c462ed",
   "metadata": {},
   "outputs": [
    {
     "name": "stdout",
     "output_type": "stream",
     "text": [
      "Will save to: robustness_evaluations/WjBG_resnet50_linf_4.csv\n"
     ]
    },
    {
     "name": "stderr",
     "output_type": "stream",
     "text": [
      "lam 0.2500, ones (0.0070, mu 0.0910), exbs (0.0040, mu 0.0390), : 100%|██████████| 2000/2000 [06:22<00:00,  5.23it/s]\n"
     ]
    }
   ],
   "source": [
    "linf_4_df = q1t_test_radii(mus_linf_4, exbits_list, imagenet_dataset, csv_saveto=linf_4_saveto)"
   ]
  },
  {
   "cell_type": "code",
   "execution_count": 7,
   "id": "0c3f8d25-df09-401e-bbbe-1236a0653787",
   "metadata": {},
   "outputs": [
    {
     "name": "stdout",
     "output_type": "stream",
     "text": [
      "Will save to: robustness_evaluations/WjBG_resnet50_linf_8.csv\n"
     ]
    },
    {
     "name": "stderr",
     "output_type": "stream",
     "text": [
      "lam 0.2500, ones (0.0055, mu 0.0425), exbs (0.0005, mu 0.0220), : 100%|██████████| 2000/2000 [06:22<00:00,  5.23it/s]\n"
     ]
    }
   ],
   "source": [
    "linf_8_df = q1t_test_radii(mus_linf_8, exbits_list, imagenet_dataset, csv_saveto=linf_8_saveto)"
   ]
  },
  {
   "cell_type": "code",
   "execution_count": null,
   "id": "48411a61-b54e-4517-9db3-d5d181d28130",
   "metadata": {},
   "outputs": [],
   "source": []
  },
  {
   "cell_type": "code",
   "execution_count": 9,
   "id": "b83cdb36-9367-415b-8380-b526d45ed537",
   "metadata": {},
   "outputs": [],
   "source": [
    "base_df = pd.read_csv(base_saveto)\n",
    "l2_3_0_df = pd.read_csv(l2_3_0_saveto)\n",
    "linf_4_df = pd.read_csv(linf_4_saveto)\n",
    "linf_8_df = pd.read_csv(linf_8_saveto)"
   ]
  },
  {
   "cell_type": "code",
   "execution_count": null,
   "id": "0c8eae9a-f456-4fbd-9de8-5f3876ac1c09",
   "metadata": {},
   "outputs": [],
   "source": []
  },
  {
   "cell_type": "code",
   "execution_count": 10,
   "id": "1d7c7aad-fa3e-4d2b-9e86-1723d3b227bf",
   "metadata": {},
   "outputs": [
    {
     "data": {
      "text/plain": [
       "(667, 846, 717, 995)"
      ]
     },
     "execution_count": 10,
     "metadata": {},
     "output_type": "execute_result"
    }
   ],
   "source": [
    "thr = 0.25\n",
    "sum(base_df[\"exbs_gap\"] > thr), \\\n",
    "    sum(l2_3_0_df[\"exbs_gap\"] > thr), \\\n",
    "    sum(linf_4_df[\"exbs_gap\"] > thr), \\\n",
    "    sum(linf_8_df[\"exbs_gap\"] > thr)"
   ]
  },
  {
   "cell_type": "code",
   "execution_count": null,
   "id": "101b1ecd-75d7-4444-b5f5-1d20fdf61228",
   "metadata": {},
   "outputs": [],
   "source": []
  },
  {
   "cell_type": "code",
   "execution_count": 11,
   "id": "92111db7-cda4-44b9-9c4b-3caff9c73530",
   "metadata": {},
   "outputs": [],
   "source": [
    "## Plotting stuff"
   ]
  },
  {
   "cell_type": "code",
   "execution_count": 12,
   "id": "444909fa-d2f9-4c06-8c3b-fd8d8002aafc",
   "metadata": {},
   "outputs": [],
   "source": [
    "def q1t_drops(df, rs, prop=\"inc\", consistent=True, div_by_p=False, use_mu=False):\n",
    "    assert prop in [\"inc\", \"dec\"]\n",
    "    \n",
    "    true_labels = df[\"true_label\"].to_numpy()\n",
    "    ones_labels = (df[\"ones_mu_label\"] if use_mu else df[\"ones_label\"]).to_numpy()\n",
    "    exbs_labels = (df[\"exbs_mu_label\"] if use_mu else df[\"exbs_label\"]).to_numpy()\n",
    "    ones_gaps = (df[\"ones_mu_gap\"] if use_mu else df[\"ones_gap\"]).to_numpy()\n",
    "    exbs_gaps = (df[\"exbs_mu_gap\"] if use_mu else df[\"exbs_gap\"]).to_numpy()\n",
    "    todo_labels = exbs_labels if prop == \"inc\" else ones_labels\n",
    "    todo_gaps = exbs_gaps if prop == \"inc\" else ones_gaps\n",
    "    \n",
    "    N = len(df)\n",
    "    lambd = df[\"lambd\"][0]\n",
    "    cert_rs = todo_gaps / (2 * lambd)\n",
    "    \n",
    "    if div_by_p:\n",
    "        ps = df[\"p\"].to_numpy()\n",
    "        cert_rs = cert_rs / ps\n",
    "    \n",
    "    if consistent:\n",
    "        hit_bits = ones_labels == exbs_labels\n",
    "        drops = np.array([hit_bits[cert_rs >= r].sum() / N for r in rs])\n",
    "    else:\n",
    "        drops = np.array([(cert_rs >= r).sum() / N for r in rs])\n",
    "\n",
    "    return drops\n"
   ]
  },
  {
   "cell_type": "code",
   "execution_count": null,
   "id": "ee9d040d-9237-4112-9be0-9067214ca963",
   "metadata": {},
   "outputs": [],
   "source": []
  },
  {
   "cell_type": "code",
   "execution_count": 13,
   "id": "2c71b531-efd1-4484-a85d-1a9df96474d4",
   "metadata": {},
   "outputs": [],
   "source": [
    "rs = np.linspace(0.0, 2.1, 500)\n",
    "base_drops_wc = q1t_drops(base_df, rs, prop=\"inc\", consistent=True)\n",
    "l2_3_0_drops_wc = q1t_drops(l2_3_0_df, rs, prop=\"inc\", consistent=True)\n",
    "linf_4_drops_wc = q1t_drops(linf_4_df, rs, prop=\"inc\", consistent=True)\n",
    "linf_8_drops_wc = q1t_drops(linf_8_df, rs, prop=\"inc\", consistent=True)\n",
    "\n",
    "base_drops_nc = q1t_drops(base_df, rs, prop=\"inc\", consistent=False)\n",
    "l2_3_0_drops_nc = q1t_drops(l2_3_0_df, rs, prop=\"inc\", consistent=False)\n",
    "linf_4_drops_nc = q1t_drops(linf_4_df, rs, prop=\"inc\", consistent=False)\n",
    "linf_8_drops_nc = q1t_drops(linf_8_df, rs, prop=\"inc\", consistent=False)"
   ]
  },
  {
   "cell_type": "code",
   "execution_count": null,
   "id": "c2073cf4-4de3-4fb6-9d08-785f97fc99c7",
   "metadata": {},
   "outputs": [],
   "source": []
  },
  {
   "cell_type": "code",
   "execution_count": 29,
   "id": "67bb75e5-dc14-47d5-b85c-9daee0824410",
   "metadata": {},
   "outputs": [
    {
     "data": {
      "text/plain": [
       "<Figure size 640x480 with 0 Axes>"
      ]
     },
     "metadata": {},
     "output_type": "display_data"
    },
    {
     "data": {
      "image/png": "[encoded data removed]",
      "text/plain": [
       "<Figure size 1152x320 with 2 Axes>"
      ]
     },
     "metadata": {},
     "output_type": "display_data"
    }
   ],
   "source": [
    "plt.clf()\n",
    "fig, ax = plt.subplots(1, 2, figsize=(6.4*1.8, 3.2))\n",
    "\n",
    "ax[0].plot(rs, base_drops_wc, linestyle=\"solid\", label=f\"Non-robust ({base_drops_wc[0]:.3f})\")\n",
    "ax[0].plot(rs, l2_3_0_drops_wc, linestyle=\"dashdot\", label=f\"L2 eps=3.0 ({l2_3_0_drops_wc[0]:.3f})\")\n",
    "ax[0].plot(rs, linf_4_drops_wc, linestyle=\"dashed\", label=f\"Linf eps=4 ({linf_4_drops_wc[0]:.3f})\")\n",
    "ax[0].plot(rs, linf_8_drops_wc, linestyle=\"dotted\", label=f\"Linf eps=8 ({linf_8_drops_wc[0]:.3f})\")\n",
    "ax[0].legend(loc=\"upper right\", title=\"Inc Stable + Consistent\", title_fontsize=12)\n",
    "ax[0].set_ylabel(\"Prop Hold Rate\", fontsize=12)\n",
    "ax[0].set_xlabel(\"Radius (n=64)\", fontsize=12)\n",
    "\n",
    "ax[1].plot(rs, base_drops_nc, linestyle=\"solid\", label=f\"Non-robust\")\n",
    "ax[1].plot(rs, l2_3_0_drops_nc, linestyle=\"dashdot\", label=f\"L2 eps=3.0\")\n",
    "ax[1].plot(rs, linf_4_drops_nc, linestyle=\"dashed\", label=f\"Linf eps=4\")\n",
    "ax[1].plot(rs, linf_8_drops_nc, linestyle=\"dotted\", label=f\"Linf eps=8\")\n",
    "ax[1].legend(loc=\"upper right\", title=\"Only Inc Stable\", title_fontsize=12)\n",
    "ax[1].set_ylabel(\"Prop Hold Rate\", fontsize=12)\n",
    "ax[1].set_xlabel(\"Radius (n=64)\", fontsize=12)\n",
    "\n",
    "plt.savefig(fig_saveto, bbox_inches=\"tight\", transparent=True)"
   ]
  },
  {
   "cell_type": "code",
   "execution_count": null,
   "id": "cd8255b8-d70c-4ae9-aefe-35685d968a3f",
   "metadata": {},
   "outputs": [],
   "source": []
  },
  {
   "cell_type": "code",
   "execution_count": null,
   "id": "59048a07-1347-4004-b8d2-c050b9a4a8f8",
   "metadata": {},
   "outputs": [],
   "source": []
  },
  {
   "cell_type": "code",
   "execution_count": 38,
   "id": "da49048e-dd46-45cf-9457-2f897b979d49",
   "metadata": {},
   "outputs": [
    {
     "data": {
      "text/plain": [
       "''"
      ]
     },
     "execution_count": 38,
     "metadata": {},
     "output_type": "execute_result"
    }
   ],
   "source": [
    "## Radius 1 stability check\n",
    "torch.cuda.empty_cache()\n",
    "\n",
    "mus_base.q = 16\n",
    "mus_l2_3_0.q = 16\n",
    "mus_linf_4.q = 16\n",
    "mus_linf_8.q = 16\n",
    "\n",
    "adv_base.q = 16\n",
    "adv_l2_3_0.q = 16\n",
    "adv_linf_4.q = 16\n",
    "adv_linf_8.q = 16\n",
    "\n",
    "mus_base.cuda(), mus_l2_3_0.cuda(), mus_linf_4.cuda(), mus_linf_8.cuda()\n",
    "adv_base.cuda(), adv_l2_3_0.cuda(), adv_linf_4.cuda(), adv_linf_8.cuda()\n",
    ";"
   ]
  },
  {
   "cell_type": "code",
   "execution_count": null,
   "id": "cb846931-2631-416f-b3f8-cfe8e7f2b3e0",
   "metadata": {},
   "outputs": [],
   "source": []
  },
  {
   "cell_type": "code",
   "execution_count": 41,
   "id": "71baef7e-4697-4546-87b1-6f5c95b33639",
   "metadata": {},
   "outputs": [
    {
     "name": "stderr",
     "output_type": "stream",
     "text": [
      "mus (0.324, 0.432, 0.356, 0.448), adv (0.208, 0.176, 0.180, 0.232), : 100%|██████████| 250/250 [09:07<00:00,  2.19s/it]\n"
     ]
    }
   ],
   "source": [
    "spsz = 4\n",
    "\n",
    "df = pd.DataFrame(columns=[\n",
    "    \"mus_base\", \"mus_l2_3_0\", \"mus_linf_4\", \"mus_linf_8\",\n",
    "    \"adv_base\", \"adv_l2_3_0\", \"adv_linf_4\", \"adv_linf_8\",\n",
    "])\n",
    "pbar = tqdm(range(250))\n",
    "for i in pbar:\n",
    "    alpha = exbits_list[i]\n",
    "    x, true_label = imagenet_dataset[i]\n",
    "    x, alpha = x.cuda(), alpha.cuda()\n",
    "    pertb_bits = (alpha == 0).int()\n",
    "\n",
    "    mus_base_r1_ok = check_r1_robust(mus_base, x, alpha, pertb_bits, split_size=spsz)[0]\n",
    "    mus_l2_3_0_r1_ok = check_r1_robust(mus_l2_3_0, x, alpha, pertb_bits, split_size=spsz)[0]\n",
    "    mus_linf_4_r1_ok = check_r1_robust(mus_linf_4, x, alpha, pertb_bits, split_size=spsz)[0]\n",
    "    mus_linf_8_r1_ok = check_r1_robust(mus_linf_8, x, alpha, pertb_bits, split_size=spsz)[0]\n",
    "    \n",
    "    adv_base_r1_ok = check_r1_robust(adv_base, x, alpha, pertb_bits, split_size=spsz)[0]\n",
    "    adv_l2_3_0_r1_ok = check_r1_robust(adv_l2_3_0, x, alpha, pertb_bits, split_size=spsz)[0]\n",
    "    adv_linf_4_r1_ok = check_r1_robust(adv_linf_4, x, alpha, pertb_bits, split_size=spsz)[0]\n",
    "    adv_linf_8_r1_ok = check_r1_robust(adv_linf_8, x, alpha, pertb_bits, split_size=spsz)[0]\n",
    "\n",
    "    this_df = pd.DataFrame({\n",
    "        \"mus_base\"   : mus_base_r1_ok,\n",
    "        \"mus_l2_3_0\" : mus_l2_3_0_r1_ok,\n",
    "        \"mus_linf_4\" : mus_linf_4_r1_ok,\n",
    "        \"mus_linf_8\" : mus_linf_8_r1_ok,\n",
    "        \"adv_base\"   : adv_base_r1_ok,\n",
    "        \"adv_l2_3_0\" : adv_l2_3_0_r1_ok,\n",
    "        \"adv_linf_4\" : adv_linf_4_r1_ok,\n",
    "        \"adv_linf_8\" : adv_linf_8_r1_ok,\n",
    "        }, index = [i])\n",
    "\n",
    "    df = pd.concat([df, this_df])\n",
    "    df.to_csv(emp_r1_check_saveto)\n",
    "\n",
    "    # do the description string\n",
    "    desc_str = f\"mus (\"\n",
    "    desc_str += f\"{np.array(df['mus_base']).mean():.3f}, \"\n",
    "    desc_str += f\"{np.array(df['mus_l2_3_0']).mean():.3f}, \"\n",
    "    desc_str += f\"{np.array(df['mus_linf_4']).mean():.3f}, \"\n",
    "    desc_str += f\"{np.array(df['mus_linf_8']).mean():.3f}), \"\n",
    "\n",
    "    desc_str += \"adv (\"\n",
    "    desc_str += f\"{np.array(df['adv_base']).mean():.3f}, \"\n",
    "    desc_str += f\"{np.array(df['adv_l2_3_0']).mean():.3f}, \"\n",
    "    desc_str += f\"{np.array(df['adv_linf_4']).mean():.3f}, \"\n",
    "    desc_str += f\"{np.array(df['adv_linf_8']).mean():.3f}), \"\n",
    "    \n",
    "    pbar.set_description(desc_str)\n"
   ]
  },
  {
   "cell_type": "code",
   "execution_count": null,
   "id": "0123bb13-00d4-400f-b629-ffdcb9827826",
   "metadata": {},
   "outputs": [],
   "source": []
  },
  {
   "cell_type": "code",
   "execution_count": 42,
   "id": "fb38c12e-70f3-4bde-8063-d524c5752c58",
   "metadata": {},
   "outputs": [
    {
     "data": {
      "text/plain": [
       "'mus (0.324, 0.432, 0.356, 0.448), adv (0.208, 0.176, 0.180, 0.232), '"
      ]
     },
     "execution_count": 42,
     "metadata": {},
     "output_type": "execute_result"
    }
   ],
   "source": [
    "desc_str"
   ]
  },
  {
   "cell_type": "code",
   "execution_count": null,
   "id": "ee038f2f-56e7-458b-8502-06848d25e4b1",
   "metadata": {},
   "outputs": [],
   "source": []
  }
 ],
 "metadata": {
  "kernelspec": {
   "display_name": "Python 3 (ipykernel)",
   "language": "python",
   "name": "python3"
  },
  "language_info": {
   "codemirror_mode": {
    "name": "ipython",
    "version": 3
   },
   "file_extension": ".py",
   "mimetype": "text/x-python",
   "name": "python",
   "nbconvert_exporter": "python",
   "pygments_lexer": "ipython3",
   "version": "3.10.12"
  }
 },
 "nbformat": 4,
 "nbformat_minor": 5
}
