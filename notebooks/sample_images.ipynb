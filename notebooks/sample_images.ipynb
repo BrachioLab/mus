{
 "cells": [
  {
   "cell_type": "code",
   "execution_count": 2,
   "id": "64ac95c2",
   "metadata": {},
   "outputs": [
    {
     "name": "stderr",
     "output_type": "stream",
     "text": [
      "2023-07-13 14:56:44.129871: I tensorflow/core/platform/cpu_feature_guard.cc:193] This TensorFlow binary is optimized with oneAPI Deep Neural Network Library (oneDNN) to use the following CPU instructions in performance-critical operations:  AVX2 AVX512F AVX512_VNNI FMA\n",
      "To enable them in other operations, rebuild TensorFlow with the appropriate compiler flags.\n",
      "2023-07-13 14:56:44.605472: I tensorflow/core/util/port.cc:104] oneDNN custom operations are on. You may see slightly different numerical results due to floating-point round-off errors from different computation orders. To turn them off, set the environment variable `TF_ENABLE_ONEDNN_OPTS=0`.\n",
      "2023-07-13 14:56:46.190494: W tensorflow/compiler/xla/stream_executor/platform/default/dso_loader.cc:64] Could not load dynamic library 'libnvinfer.so.7'; dlerror: libnvinfer.so.7: cannot open shared object file: No such file or directory\n",
      "2023-07-13 14:56:46.191104: W tensorflow/compiler/xla/stream_executor/platform/default/dso_loader.cc:64] Could not load dynamic library 'libnvinfer_plugin.so.7'; dlerror: libnvinfer_plugin.so.7: cannot open shared object file: No such file or directory\n",
      "2023-07-13 14:56:46.191123: W tensorflow/compiler/tf2tensorrt/utils/py_utils.cc:38] TF-TRT Warning: Cannot dlopen some TensorRT libraries. If you would like to use Nvidia GPU with TensorRT, please make sure the missing libraries mentioned above are installed properly.\n",
      "/home/antonxue/lib/miniconda3/envs/intml/lib/python3.10/site-packages/shap/utils/_clustering.py:35: NumbaDeprecationWarning: \u001b[1mThe 'nopython' keyword argument was not supplied to the 'numba.jit' decorator. The implicit default value for this argument is currently False, but it will be changed to True in Numba 0.59.0. See https://numba.readthedocs.io/en/stable/reference/deprecation.html#deprecation-of-object-mode-fall-back-behaviour-when-using-jit for details.\u001b[0m\n",
      "  def _pt_shuffle_rec(i, indexes, index_mask, partition_tree, M, pos):\n",
      "/home/antonxue/lib/miniconda3/envs/intml/lib/python3.10/site-packages/shap/utils/_clustering.py:54: NumbaDeprecationWarning: \u001b[1mThe 'nopython' keyword argument was not supplied to the 'numba.jit' decorator. The implicit default value for this argument is currently False, but it will be changed to True in Numba 0.59.0. See https://numba.readthedocs.io/en/stable/reference/deprecation.html#deprecation-of-object-mode-fall-back-behaviour-when-using-jit for details.\u001b[0m\n",
      "  def delta_minimization_order(all_masks, max_swap_size=100, num_passes=2):\n",
      "/home/antonxue/lib/miniconda3/envs/intml/lib/python3.10/site-packages/shap/utils/_clustering.py:63: NumbaDeprecationWarning: \u001b[1mThe 'nopython' keyword argument was not supplied to the 'numba.jit' decorator. The implicit default value for this argument is currently False, but it will be changed to True in Numba 0.59.0. See https://numba.readthedocs.io/en/stable/reference/deprecation.html#deprecation-of-object-mode-fall-back-behaviour-when-using-jit for details.\u001b[0m\n",
      "  def _reverse_window(order, start, length):\n",
      "/home/antonxue/lib/miniconda3/envs/intml/lib/python3.10/site-packages/shap/utils/_clustering.py:69: NumbaDeprecationWarning: \u001b[1mThe 'nopython' keyword argument was not supplied to the 'numba.jit' decorator. The implicit default value for this argument is currently False, but it will be changed to True in Numba 0.59.0. See https://numba.readthedocs.io/en/stable/reference/deprecation.html#deprecation-of-object-mode-fall-back-behaviour-when-using-jit for details.\u001b[0m\n",
      "  def _reverse_window_score_gain(masks, order, start, length):\n",
      "/home/antonxue/lib/miniconda3/envs/intml/lib/python3.10/site-packages/shap/utils/_clustering.py:77: NumbaDeprecationWarning: \u001b[1mThe 'nopython' keyword argument was not supplied to the 'numba.jit' decorator. The implicit default value for this argument is currently False, but it will be changed to True in Numba 0.59.0. See https://numba.readthedocs.io/en/stable/reference/deprecation.html#deprecation-of-object-mode-fall-back-behaviour-when-using-jit for details.\u001b[0m\n",
      "  def _mask_delta_score(m1, m2):\n",
      "/home/antonxue/lib/miniconda3/envs/intml/lib/python3.10/site-packages/shap/links.py:5: NumbaDeprecationWarning: \u001b[1mThe 'nopython' keyword argument was not supplied to the 'numba.jit' decorator. The implicit default value for this argument is currently False, but it will be changed to True in Numba 0.59.0. See https://numba.readthedocs.io/en/stable/reference/deprecation.html#deprecation-of-object-mode-fall-back-behaviour-when-using-jit for details.\u001b[0m\n",
      "  def identity(x):\n",
      "/home/antonxue/lib/miniconda3/envs/intml/lib/python3.10/site-packages/shap/links.py:10: NumbaDeprecationWarning: \u001b[1mThe 'nopython' keyword argument was not supplied to the 'numba.jit' decorator. The implicit default value for this argument is currently False, but it will be changed to True in Numba 0.59.0. See https://numba.readthedocs.io/en/stable/reference/deprecation.html#deprecation-of-object-mode-fall-back-behaviour-when-using-jit for details.\u001b[0m\n",
      "  def _identity_inverse(x):\n",
      "/home/antonxue/lib/miniconda3/envs/intml/lib/python3.10/site-packages/shap/links.py:15: NumbaDeprecationWarning: \u001b[1mThe 'nopython' keyword argument was not supplied to the 'numba.jit' decorator. The implicit default value for this argument is currently False, but it will be changed to True in Numba 0.59.0. See https://numba.readthedocs.io/en/stable/reference/deprecation.html#deprecation-of-object-mode-fall-back-behaviour-when-using-jit for details.\u001b[0m\n",
      "  def logit(x):\n",
      "/home/antonxue/lib/miniconda3/envs/intml/lib/python3.10/site-packages/shap/links.py:20: NumbaDeprecationWarning: \u001b[1mThe 'nopython' keyword argument was not supplied to the 'numba.jit' decorator. The implicit default value for this argument is currently False, but it will be changed to True in Numba 0.59.0. See https://numba.readthedocs.io/en/stable/reference/deprecation.html#deprecation-of-object-mode-fall-back-behaviour-when-using-jit for details.\u001b[0m\n",
      "  def _logit_inverse(x):\n",
      "/home/antonxue/lib/miniconda3/envs/intml/lib/python3.10/site-packages/shap/utils/_masked_model.py:363: NumbaDeprecationWarning: \u001b[1mThe 'nopython' keyword argument was not supplied to the 'numba.jit' decorator. The implicit default value for this argument is currently False, but it will be changed to True in Numba 0.59.0. See https://numba.readthedocs.io/en/stable/reference/deprecation.html#deprecation-of-object-mode-fall-back-behaviour-when-using-jit for details.\u001b[0m\n",
      "  def _build_fixed_single_output(averaged_outs, last_outs, outputs, batch_positions, varying_rows, num_varying_rows, link, linearizing_weights):\n",
      "/home/antonxue/lib/miniconda3/envs/intml/lib/python3.10/site-packages/shap/utils/_masked_model.py:385: NumbaDeprecationWarning: \u001b[1mThe 'nopython' keyword argument was not supplied to the 'numba.jit' decorator. The implicit default value for this argument is currently False, but it will be changed to True in Numba 0.59.0. See https://numba.readthedocs.io/en/stable/reference/deprecation.html#deprecation-of-object-mode-fall-back-behaviour-when-using-jit for details.\u001b[0m\n",
      "  def _build_fixed_multi_output(averaged_outs, last_outs, outputs, batch_positions, varying_rows, num_varying_rows, link, linearizing_weights):\n",
      "/home/antonxue/lib/miniconda3/envs/intml/lib/python3.10/site-packages/shap/utils/_masked_model.py:428: NumbaDeprecationWarning: \u001b[1mThe 'nopython' keyword argument was not supplied to the 'numba.jit' decorator. The implicit default value for this argument is currently False, but it will be changed to True in Numba 0.59.0. See https://numba.readthedocs.io/en/stable/reference/deprecation.html#deprecation-of-object-mode-fall-back-behaviour-when-using-jit for details.\u001b[0m\n",
      "  def _init_masks(cluster_matrix, M, indices_row_pos, indptr):\n",
      "/home/antonxue/lib/miniconda3/envs/intml/lib/python3.10/site-packages/shap/utils/_masked_model.py:439: NumbaDeprecationWarning: \u001b[1mThe 'nopython' keyword argument was not supplied to the 'numba.jit' decorator. The implicit default value for this argument is currently False, but it will be changed to True in Numba 0.59.0. See https://numba.readthedocs.io/en/stable/reference/deprecation.html#deprecation-of-object-mode-fall-back-behaviour-when-using-jit for details.\u001b[0m\n",
      "  def _rec_fill_masks(cluster_matrix, indices_row_pos, indptr, indices, M, ind):\n",
      "/home/antonxue/lib/miniconda3/envs/intml/lib/python3.10/site-packages/shap/maskers/_tabular.py:186: NumbaDeprecationWarning: \u001b[1mThe 'nopython' keyword argument was not supplied to the 'numba.jit' decorator. The implicit default value for this argument is currently False, but it will be changed to True in Numba 0.59.0. See https://numba.readthedocs.io/en/stable/reference/deprecation.html#deprecation-of-object-mode-fall-back-behaviour-when-using-jit for details.\u001b[0m\n",
      "  def _single_delta_mask(dind, masked_inputs, last_mask, data, x, noop_code):\n",
      "/home/antonxue/lib/miniconda3/envs/intml/lib/python3.10/site-packages/shap/maskers/_tabular.py:197: NumbaDeprecationWarning: \u001b[1mThe 'nopython' keyword argument was not supplied to the 'numba.jit' decorator. The implicit default value for this argument is currently False, but it will be changed to True in Numba 0.59.0. See https://numba.readthedocs.io/en/stable/reference/deprecation.html#deprecation-of-object-mode-fall-back-behaviour-when-using-jit for details.\u001b[0m\n",
      "  def _delta_masking(masks, x, curr_delta_inds, varying_rows_out,\n",
      "/home/antonxue/lib/miniconda3/envs/intml/lib/python3.10/site-packages/shap/maskers/_image.py:175: NumbaDeprecationWarning: \u001b[1mThe 'nopython' keyword argument was not supplied to the 'numba.jit' decorator. The implicit default value for this argument is currently False, but it will be changed to True in Numba 0.59.0. See https://numba.readthedocs.io/en/stable/reference/deprecation.html#deprecation-of-object-mode-fall-back-behaviour-when-using-jit for details.\u001b[0m\n",
      "  def _jit_build_partition_tree(xmin, xmax, ymin, ymax, zmin, zmax, total_ywidth, total_zwidth, M, clustering, q):\n",
      "/home/antonxue/lib/miniconda3/envs/intml/lib/python3.10/site-packages/shap/explainers/_partition.py:676: NumbaDeprecationWarning: \u001b[1mThe 'nopython' keyword argument was not supplied to the 'numba.jit' decorator. The implicit default value for this argument is currently False, but it will be changed to True in Numba 0.59.0. See https://numba.readthedocs.io/en/stable/reference/deprecation.html#deprecation-of-object-mode-fall-back-behaviour-when-using-jit for details.\u001b[0m\n",
      "  def lower_credit(i, value, M, values, clustering):\n"
     ]
    },
    {
     "name": "stdout",
     "output_type": "stream",
     "text": [
      "PID: 127939\n"
     ]
    },
    {
     "name": "stderr",
     "output_type": "stream",
     "text": [
      "\u001b[1mThe 'nopython' keyword argument was not supplied to the 'numba.jit' decorator. The implicit default value for this argument is currently False, but it will be changed to True in Numba 0.59.0. See https://numba.readthedocs.io/en/stable/reference/deprecation.html#deprecation-of-object-mode-fall-back-behaviour-when-using-jit for details.\u001b[0m\n",
      "\u001b[1mThe 'nopython' keyword argument was not supplied to the 'numba.jit' decorator. The implicit default value for this argument is currently False, but it will be changed to True in Numba 0.59.0. See https://numba.readthedocs.io/en/stable/reference/deprecation.html#deprecation-of-object-mode-fall-back-behaviour-when-using-jit for details.\u001b[0m\n"
     ]
    }
   ],
   "source": [
    "import copy\n",
    "import os\n",
    "import sys\n",
    "import torch\n",
    "import numpy as np\n",
    "import matplotlib.pyplot as plt\n",
    "import inspect\n",
    "import pandas as pd\n",
    "\n",
    "sys.path.insert(0, \"..\")\n",
    "pd.set_option(\"display.max_rows\", None, \"display.max_columns\", None)\n",
    "\n",
    "from qheader import *"
   ]
  },
  {
   "cell_type": "code",
   "execution_count": 92,
   "id": "af3afa64",
   "metadata": {},
   "outputs": [],
   "source": [
    "IMAGE_SAVETO_DIR = \"images\"\n",
    "os.makedirs(IMAGE_SAVETO_DIR, exist_ok=True)"
   ]
  },
  {
   "cell_type": "code",
   "execution_count": 22,
   "id": "2c7ef47c",
   "metadata": {},
   "outputs": [],
   "source": [
    "def plot_pts(xs):\n",
    "    assert isinstance(xs, list)\n",
    "    num_xs = len(xs)\n",
    "    plt.clf()\n",
    "    if num_xs == 1:\n",
    "        fig = plt.imshow(xs[0].numpy().transpose(1,2,0))\n",
    "    else:\n",
    "        fig, ax = plt.subplots(1,num_xs)\n",
    "        for i in range(num_xs):\n",
    "            ax[i].imshow(xs[i].numpy().transpose(1,2,0))\n",
    "    return fig"
   ]
  },
  {
   "cell_type": "code",
   "execution_count": null,
   "id": "8c28d276",
   "metadata": {},
   "outputs": [],
   "source": []
  },
  {
   "cell_type": "code",
   "execution_count": 27,
   "id": "1d513a15",
   "metadata": {},
   "outputs": [
    {
     "data": {
      "text/plain": [
       "{'base_dir': PosixPath('/home/antonxue/foo/smooth-interp'),\n",
       " 'models_dir': '/home/antonxue/foo/smooth-interp/saved_models',\n",
       " 'exbits_dir': '/home/antonxue/foo/smooth-interp/exbits',\n",
       " 'imagenet_val_dir': '/data/imagenet/val',\n",
       " 'tweet_val_dir': '/home/antonxue/foo/smooth-interp/tweeteval/datasets/sentiment',\n",
       " 'imagenet_dataset': <torch.utils.data.dataset.Subset at 0x7f5ceca7ba00>,\n",
       " 'tweet_dataset': <torch.utils.data.dataset.Subset at 0x7f5ceca5fdf0>,\n",
       " 'model2data': {'vit16': <torch.utils.data.dataset.Subset at 0x7f5ceca7ba00>,\n",
       "  'resnet50': <torch.utils.data.dataset.Subset at 0x7f5ceca7ba00>,\n",
       "  'roberta': <torch.utils.data.dataset.Subset at 0x7f5ceca5fdf0>},\n",
       " 'model2method': {'lime': <methods.lime_.LimeExplainer at 0x7f5ceca50b80>,\n",
       "  'shap': <methods.shap_.GradShapExplainer at 0x7f5ceca50880>,\n",
       "  'vgrads': <methods.gradients.PlainGradExplainer at 0x7f5ceca51330>,\n",
       "  'vgradu': <methods.gradients.PlainGradExplainer at 0x7f5ceca519c0>,\n",
       "  'igrads': <methods.gradients.IntGradExplainer at 0x7f5ceca52770>,\n",
       "  'igradu': <methods.gradients.IntGradExplainer at 0x7f5ceca519f0>}}"
      ]
     },
     "execution_count": 27,
     "metadata": {},
     "output_type": "execute_result"
    }
   ],
   "source": [
    "configs = make_default_configs()\n",
    "exbits_list = load_exbits_list(\"vit16\", \"shap\", 0.25, configs[\"exbits_dir\"])\n",
    "configs"
   ]
  },
  {
   "cell_type": "code",
   "execution_count": null,
   "id": "451ac10b",
   "metadata": {},
   "outputs": [],
   "source": []
  },
  {
   "cell_type": "code",
   "execution_count": 85,
   "id": "d2ea8bc7",
   "metadata": {},
   "outputs": [
    {
     "name": "stdout",
     "output_type": "stream",
     "text": [
      "loading: vit16_durt_psz28_ft__1.0000_0.5000__epoch1.pt\n",
      "loading: vit16_durt_psz28_ft__0.5000_0.2500__epoch1.pt\n",
      "loading: vit16_durt_psz28_ft__0.2500_0.1250__epoch1.pt\n"
     ]
    }
   ],
   "source": [
    "# The models\n",
    "modelnone = load_model(\"vit16\", configs[\"models_dir\"], lambd=None)\n",
    "model1000 = load_model(\"vit16\", configs[\"models_dir\"], lambd=1.0)\n",
    "model0500 = load_model(\"vit16\", configs[\"models_dir\"], lambd=0.5)\n",
    "model0250 = load_model(\"vit16\", configs[\"models_dir\"], lambd=0.25)\n",
    "\n",
    "model = modelnone"
   ]
  },
  {
   "cell_type": "code",
   "execution_count": 96,
   "id": "ae35ae83",
   "metadata": {},
   "outputs": [],
   "source": [
    "# The goldfish label that we found by good luck\n",
    "x, label_true = configs[\"imagenet_dataset\"][289]\n",
    "a = exbits_list[289]\n",
    "xx = x.unsqueeze(0)\n",
    "aa = a.unsqueeze(0)\n",
    "\n",
    "pertb = torch.zeros(64)\n",
    "pertb[20] = 1\n",
    "\n",
    "mask = model.binner_product(torch.ones_like(xx), aa)[0]\n",
    "x_ab = model.binner_product(xx, aa)[0]\n",
    "x_bad = model.binner_product(xx, aa + pertb)[0]\n",
    "x_pertb = model.binner_product(xx, pertb.unsqueeze(0))[0]"
   ]
  },
  {
   "cell_type": "code",
   "execution_count": 97,
   "id": "7bf2b9f3",
   "metadata": {},
   "outputs": [
    {
     "data": {
      "text/plain": [
       "''"
      ]
     },
     "execution_count": 97,
     "metadata": {},
     "output_type": "execute_result"
    },
    {
     "data": {
      "text/plain": [
       "<Figure size 640x480 with 0 Axes>"
      ]
     },
     "metadata": {},
     "output_type": "display_data"
    },
    {
     "data": {
      "image/png": "[encoded data removed]",
      "text/plain": [
       "<Figure size 640x480 with 5 Axes>"
      ]
     },
     "metadata": {},
     "output_type": "display_data"
    }
   ],
   "source": [
    "plot_pts([x, x_ab, x_bad, x_pertb, mask])\n",
    "plt.imsave\n",
    ";"
   ]
  },
  {
   "cell_type": "code",
   "execution_count": 98,
   "id": "67efcf4a",
   "metadata": {},
   "outputs": [],
   "source": [
    "plt.imsave(os.path.join(IMAGE_SAVETO_DIR, \"x289.png\"), x.numpy().transpose(1,2,0))\n",
    "plt.imsave(os.path.join(IMAGE_SAVETO_DIR, \"x289_ab.png\"), x_ab.numpy().transpose(1,2,0))\n",
    "plt.imsave(os.path.join(IMAGE_SAVETO_DIR, \"x289_bad.png\"), x_bad.numpy().transpose(1,2,0))\n",
    "plt.imsave(os.path.join(IMAGE_SAVETO_DIR, \"x289_pertb.png\"), x_pertb.numpy().transpose(1,2,0))\n",
    "plt.imsave(os.path.join(IMAGE_SAVETO_DIR, \"m289.png\"), mask.numpy().transpose(1,2,0))"
   ]
  },
  {
   "cell_type": "code",
   "execution_count": null,
   "id": "2db391b3",
   "metadata": {},
   "outputs": [],
   "source": []
  },
  {
   "cell_type": "code",
   "execution_count": 83,
   "id": "9fa71bfd",
   "metadata": {},
   "outputs": [
    {
     "data": {
      "text/plain": [
       "(1, tensor([1]), tensor([1]), tensor([29]))"
      ]
     },
     "execution_count": 83,
     "metadata": {},
     "output_type": "execute_result"
    }
   ],
   "source": [
    "model = model1000\n",
    "with torch.no_grad():\n",
    "    y_pred = model(xx)\n",
    "    y_ab = model(x_ab.unsqueeze(0))\n",
    "    y_bad = model(x_bad.unsqueeze(0))\n",
    "    \n",
    "label_true, y_pred.argmax(dim=1), y_ab.argmax(dim=1), y_bad.argmax(dim=1)"
   ]
  },
  {
   "cell_type": "code",
   "execution_count": null,
   "id": "7c3a6af2",
   "metadata": {},
   "outputs": [],
   "source": []
  },
  {
   "cell_type": "code",
   "execution_count": 84,
   "id": "4e82a8c2",
   "metadata": {},
   "outputs": [
    {
     "data": {
      "text/plain": [
       "(1, tensor([1]), tensor([1]), tensor([1]))"
      ]
     },
     "execution_count": 84,
     "metadata": {},
     "output_type": "execute_result"
    }
   ],
   "source": [
    "model = model0250\n",
    "with torch.no_grad():\n",
    "    y_pred = model(xx)\n",
    "    y_ab = model(x_ab.unsqueeze(0))\n",
    "    y_bad = model(x_bad.unsqueeze(0))\n",
    "    \n",
    "label_true, y_pred.argmax(dim=1), y_ab.argmax(dim=1), y_bad.argmax(dim=1)"
   ]
  },
  {
   "cell_type": "code",
   "execution_count": null,
   "id": "2e0a19f6",
   "metadata": {},
   "outputs": [],
   "source": []
  }
 ],
 "metadata": {
  "kernelspec": {
   "display_name": "Python 3 (ipykernel)",
   "language": "python",
   "name": "python3"
  },
  "language_info": {
   "codemirror_mode": {
    "name": "ipython",
    "version": 3
   },
   "file_extension": ".py",
   "mimetype": "text/x-python",
   "name": "python",
   "nbconvert_exporter": "python",
   "pygments_lexer": "ipython3",
   "version": "3.10.8"
  }
 },
 "nbformat": 4,
 "nbformat_minor": 5
}
