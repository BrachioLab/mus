{
 "cells": [
  {
   "cell_type": "code",
   "execution_count": 68,
   "id": "b3b90b67",
   "metadata": {},
   "outputs": [],
   "source": [
    "import copy\n",
    "import sys\n",
    "import torchxrayvision as xrv\n",
    "import skimage, torch, torchvision\n",
    "import matplotlib.pyplot as plt\n",
    "from matplotlib import cm\n",
    "from PIL import Image\n",
    "import cv2\n",
    "\n",
    "sys.path.insert(0, \"..\")\n",
    "\n",
    "from my_models import *\n",
    "from methods import *"
   ]
  },
  {
   "cell_type": "code",
   "execution_count": 2,
   "id": "75a9e8bf",
   "metadata": {},
   "outputs": [],
   "source": [
    "SAVETO_DIR = \"images\""
   ]
  },
  {
   "cell_type": "code",
   "execution_count": 3,
   "id": "55455bc8",
   "metadata": {},
   "outputs": [],
   "source": [
    "def plot_pts(xs, cmap=None):\n",
    "    assert isinstance(xs, list)\n",
    "    num_xs = len(xs)\n",
    "    plt.clf()\n",
    "    if num_xs == 1:\n",
    "        fig = plt.imshow(xs[0].numpy().transpose(1,2,0), cmap=cmap)\n",
    "    else:\n",
    "        fig, ax = plt.subplots(1,num_xs)\n",
    "        for i in range(num_xs):\n",
    "            ax[i].imshow(xs[i].numpy().transpose(1,2,0), cmap=cmap)\n",
    "    return fig"
   ]
  },
  {
   "cell_type": "code",
   "execution_count": null,
   "id": "7d22c8bc",
   "metadata": {},
   "outputs": [],
   "source": []
  },
  {
   "cell_type": "code",
   "execution_count": 104,
   "id": "eb664113",
   "metadata": {},
   "outputs": [],
   "source": [
    "class SegModel(nn.Module):\n",
    "    def __init__(self, base_model):\n",
    "        super(SegModel, self).__init__()\n",
    "        self.base_model = copy.deepcopy(base_model)\n",
    "        self.image_size = (1,224,224)\n",
    "        self.patch_size = 28\n",
    "        self.grid_h_len = self.image_size[1] // self.patch_size\n",
    "        self.grid_w_len = self.image_size[2] // self.patch_size\n",
    "        self.p = self.grid_h_len * self.grid_w_len\n",
    "        \n",
    "    def alpha_shape(self, x):\n",
    "        return torch.Size([x.size(0), self.p])\n",
    "    \n",
    "    def binner_product(self, x, alpha):\n",
    "        N, p = alpha.shape\n",
    "        alpha = alpha.view(N,1,self.grid_h_len,self.grid_w_len).float()\n",
    "        x_noised = F.interpolate(alpha, scale_factor=self.patch_size * 1.0) * x\n",
    "        return x_noised    \n",
    "    \n",
    "    def forward(self, x, alpha=None):\n",
    "        alpha = torch.ones(x.size(0), self.p).to(x.device) if alpha is None else alpha\n",
    "        x_masked = self.binner_product(x, alpha)\n",
    "        y = self.base_model(x_masked)\n",
    "        return y"
   ]
  },
  {
   "cell_type": "code",
   "execution_count": null,
   "id": "c1a73bce",
   "metadata": {},
   "outputs": [],
   "source": []
  },
  {
   "cell_type": "code",
   "execution_count": 105,
   "id": "13f9ce9b",
   "metadata": {},
   "outputs": [],
   "source": [
    "model = xrv.models.DenseNet(weights=\"densenet121-res224-nih\").eval()\n",
    "gmodel = SegModel(model).eval()\n",
    "\n",
    "# smodel = MuSImageNet(model, patch_size=28, q=64, lambd=1.0, image_shape=(1,224,224))\n",
    "# smodel.cpu().eval()\n",
    "# smodel.use_voting = False"
   ]
  },
  {
   "cell_type": "code",
   "execution_count": 106,
   "id": "d68b8563",
   "metadata": {},
   "outputs": [],
   "source": [
    "IMAGES_DIR = \"/home/antonxue/foo/data/nih-hello\"\n",
    "image_files = os.listdir(IMAGES_DIR)\n",
    "image_files = sorted(image_files)\n",
    "image_files = [os.path.join(IMAGES_DIR, f) for f in image_files]"
   ]
  },
  {
   "cell_type": "code",
   "execution_count": 107,
   "id": "af0ca64d",
   "metadata": {},
   "outputs": [
    {
     "data": {
      "text/plain": [
       "'/home/antonxue/foo/data/nih-hello/00010264_005.png'"
      ]
     },
     "execution_count": 107,
     "metadata": {},
     "output_type": "execute_result"
    }
   ],
   "source": [
    "image_files[245]"
   ]
  },
  {
   "cell_type": "code",
   "execution_count": 108,
   "id": "eeec65fe",
   "metadata": {},
   "outputs": [],
   "source": [
    "# img = skimage.io.imread(\"/home/antonxue/foo/data/nih-hello/00010216_001.png\")\n",
    "raw_img = skimage.io.imread(\"images/00010216_001.png\")\n",
    "img = xrv.datasets.normalize(raw_img, 255) # convert 8-bit image to [-1024, 1024] range\n",
    "img = torch.from_numpy(img).view(1,224,224)"
   ]
  },
  {
   "cell_type": "code",
   "execution_count": null,
   "id": "0b8b19bb",
   "metadata": {
    "scrolled": true
   },
   "outputs": [],
   "source": []
  },
  {
   "cell_type": "code",
   "execution_count": 109,
   "id": "b595d1c0",
   "metadata": {},
   "outputs": [],
   "source": [
    "method = GradShapExplainer(0.25, num_trains=96)\n",
    "torch.cuda.empty_cache()"
   ]
  },
  {
   "cell_type": "code",
   "execution_count": 116,
   "id": "6da7810e",
   "metadata": {},
   "outputs": [],
   "source": [
    "torch.manual_seed(1234)\n",
    "np.random.seed(1234)\n",
    "alpha, order = method.find_explanation(gmodel, img, get_order=True)\n",
    "beta = alpha.clone()\n",
    "beta[1] = 1\n",
    "torch.cuda.empty_cache()"
   ]
  },
  {
   "cell_type": "code",
   "execution_count": null,
   "id": "abcc7ab8",
   "metadata": {},
   "outputs": [],
   "source": []
  },
  {
   "cell_type": "code",
   "execution_count": 117,
   "id": "313b6acd",
   "metadata": {},
   "outputs": [
    {
     "data": {
      "text/plain": [
       "device(type='cuda', index=0)"
      ]
     },
     "execution_count": 117,
     "metadata": {},
     "output_type": "execute_result"
    }
   ],
   "source": [
    "next(gmodel.parameters()).device"
   ]
  },
  {
   "cell_type": "code",
   "execution_count": null,
   "id": "6a41860d",
   "metadata": {},
   "outputs": [],
   "source": []
  },
  {
   "cell_type": "code",
   "execution_count": 118,
   "id": "005d6c07",
   "metadata": {},
   "outputs": [],
   "source": [
    "with torch.no_grad():\n",
    "    y = gmodel(img[None,...].cuda())\n",
    "    ya = gmodel(img[None,...].cuda(), alpha=alpha[None,...].cuda())\n",
    "    yb = gmodel(img[None,...].cuda(), alpha=beta[None,...].cuda())"
   ]
  },
  {
   "cell_type": "code",
   "execution_count": 119,
   "id": "e5e84ed1",
   "metadata": {},
   "outputs": [
    {
     "data": {
      "text/plain": [
       "tensor(0.2049, device='cuda:0')"
      ]
     },
     "execution_count": 119,
     "metadata": {},
     "output_type": "execute_result"
    }
   ],
   "source": [
    "(ya - yb).abs().max()"
   ]
  },
  {
   "cell_type": "code",
   "execution_count": 120,
   "id": "0c1668ef",
   "metadata": {},
   "outputs": [
    {
     "data": {
      "text/plain": [
       "(tensor(8, device='cuda:0'),\n",
       " tensor(0.2550, device='cuda:0'),\n",
       " tensor(0.2956, device='cuda:0'),\n",
       " tensor(0.5005, device='cuda:0'),\n",
       " 'Pneumonia')"
      ]
     },
     "execution_count": 120,
     "metadata": {},
     "output_type": "execute_result"
    }
   ],
   "source": [
    "(ya - yb).abs().argmax(), y[0,8], ya[0,8], yb[0,8], model.pathologies[8]"
   ]
  },
  {
   "cell_type": "code",
   "execution_count": 123,
   "id": "5b12e0a5",
   "metadata": {},
   "outputs": [],
   "source": [
    "img_alpha = gmodel.binner_product(raw_img[None,...], alpha[None,...])[0]\n",
    "img_beta = gmodel.binner_product(raw_img[None,...], beta[None,...])[0]"
   ]
  },
  {
   "cell_type": "code",
   "execution_count": 124,
   "id": "ddfa0140",
   "metadata": {},
   "outputs": [
    {
     "data": {
      "text/plain": [
       "<Figure size 640x480 with 0 Axes>"
      ]
     },
     "metadata": {},
     "output_type": "display_data"
    },
    {
     "data": {
      "image/png": "[encoded data removed]",
      "text/plain": [
       "<Figure size 640x480 with 2 Axes>"
      ]
     },
     "metadata": {},
     "output_type": "display_data"
    }
   ],
   "source": [
    "plot_pts([img_alpha, img_beta], cmap=\"gray\");"
   ]
  },
  {
   "cell_type": "code",
   "execution_count": 125,
   "id": "741cc46c",
   "metadata": {},
   "outputs": [],
   "source": [
    "ialpha = img_alpha.view(224,224)\n",
    "ibeta = img_beta.view(224,224)\n",
    "\n",
    "icolor = cv2.cvtColor(raw_img, cv2.COLOR_GRAY2BGR)\n",
    "ialpha_color = cv2.cvtColor(ialpha.numpy(), cv2.COLOR_GRAY2BGR)\n",
    "ibeta_color = cv2.cvtColor(ibeta.numpy(), cv2.COLOR_GRAY2BGR)\n",
    "\n",
    "icolor = torch.tensor(icolor.transpose(2,0,1)) / 256\n",
    "ialpha_color = torch.tensor(ialpha_color.transpose(2,0,1)) / 256\n",
    "ibeta_color = torch.tensor(ibeta_color.transpose(2,0,1)) / 256"
   ]
  },
  {
   "cell_type": "code",
   "execution_count": null,
   "id": "5aea7edb",
   "metadata": {},
   "outputs": [],
   "source": []
  },
  {
   "cell_type": "code",
   "execution_count": 126,
   "id": "99cd1dd6",
   "metadata": {},
   "outputs": [
    {
     "data": {
      "text/plain": [
       "<Figure size 640x480 with 0 Axes>"
      ]
     },
     "metadata": {},
     "output_type": "display_data"
    },
    {
     "data": {
      "image/png": "[encoded data removed]",
      "text/plain": [
       "<Figure size 640x480 with 3 Axes>"
      ]
     },
     "metadata": {},
     "output_type": "display_data"
    }
   ],
   "source": [
    "plot_pts([icolor, ialpha_color, ibeta_color]);"
   ]
  },
  {
   "cell_type": "code",
   "execution_count": null,
   "id": "8ec7b417",
   "metadata": {},
   "outputs": [],
   "source": []
  },
  {
   "cell_type": "code",
   "execution_count": 127,
   "id": "11242cec",
   "metadata": {},
   "outputs": [],
   "source": [
    "plt.imsave(os.path.join(SAVETO_DIR, \"00010216_001_color.png\"), icolor.numpy().transpose(1,2,0))\n",
    "plt.imsave(os.path.join(SAVETO_DIR, \"00010216_001_ab.png\"), ialpha_color.numpy().transpose(1,2,0))\n",
    "plt.imsave(os.path.join(SAVETO_DIR, \"00010216_001_bad.png\"), ibeta_color.numpy().transpose(1,2,0))"
   ]
  },
  {
   "cell_type": "code",
   "execution_count": null,
   "id": "542a5cd9",
   "metadata": {},
   "outputs": [],
   "source": []
  },
  {
   "cell_type": "code",
   "execution_count": 63,
   "id": "78759188",
   "metadata": {
    "scrolled": true
   },
   "outputs": [],
   "source": [
    "ialpha = img_alpha.view(224,224)\n",
    "ibeta = img_beta.view(224,224)\n",
    "\n",
    "I8_alpha = (((ialpha - ialpha.min()) / (ialpha.max() - ialpha.min())) * 255.9).numpy().astype(np.uint8)\n",
    "I8_beta = (((ibeta - ibeta.min()) / (ibeta.max() - ibeta.min())) * 255.9).numpy().astype(np.uint8)\n",
    "\n",
    "pil_img_alpha = Image.fromarray(I8_alpha)\n",
    "pil_img_beta = Image.fromarray(I8_beta)\n",
    "\n",
    "pil_img_alpha.save(os.path.join(SAVETO_DIR, \"00010216_001_ab.png\"))\n",
    "pil_img_beta.save(os.path.join(SAVETO_DIR, \"00010216_001_bad.png\"))\n",
    "\n",
    "# plt.imsave(os.path.join(SAVETO_DIR, \"00010216_001_ab.png\"), I8_alpha.transpose(1,2,0), cmap=cm.gray)\n"
   ]
  },
  {
   "cell_type": "code",
   "execution_count": null,
   "id": "7c8ad1e8",
   "metadata": {},
   "outputs": [],
   "source": []
  },
  {
   "cell_type": "code",
   "execution_count": null,
   "id": "74131948",
   "metadata": {
    "scrolled": true
   },
   "outputs": [],
   "source": [
    "best_gap = 0.0\n",
    "best_i = 0\n",
    "\n",
    "for i in range(0,1000):\n",
    "    img = skimage.io.imread(image_files[i])\n",
    "    img = img[None,...]\n",
    "    img = xrv.datasets.normalize(img, 255) # convert 8-bit image to [-1024, 1024] range\n",
    "    \n",
    "    if not (img.size == 224 * 224):\n",
    "        print(f\"i {i}, mishaped of size {img.size}\")\n",
    "        continue\n",
    "    \n",
    "    \n",
    "    img = torch.from_numpy(img).view(1,224,224).cuda()\n",
    "    torch.manual_seed(1234)\n",
    "    np.random.seed(1234)\n",
    "    alpha, order = method.find_explanation(gmodel, img, get_order=True)\n",
    "    torch.cuda.empty_cache()\n",
    "    beta = alpha.clone()\n",
    "    beta[0] = 1\n",
    "    \n",
    "    gmodel.cuda()\n",
    "    \n",
    "    ya = gmodel(img[None,...], alpha=alpha[None,...])\n",
    "    yb = gmodel(img[None,...], alpha=beta[None,...])\n",
    "    \n",
    "    gap = (ya - yb).abs().max()\n",
    "    \n",
    "    if gap > best_gap:\n",
    "        best_gap = gap\n",
    "        best_i = i\n",
    "    print(f\"i {i}, gap {gap:.4f} (best: {best_i}, {best_gap:.4f}, {image_files[best_i]})\")"
   ]
  },
  {
   "cell_type": "code",
   "execution_count": null,
   "id": "376656f8",
   "metadata": {},
   "outputs": [],
   "source": []
  },
  {
   "cell_type": "code",
   "execution_count": null,
   "id": "28d8fe2c",
   "metadata": {},
   "outputs": [],
   "source": []
  },
  {
   "cell_type": "code",
   "execution_count": null,
   "id": "da1afac5",
   "metadata": {},
   "outputs": [],
   "source": []
  }
 ],
 "metadata": {
  "kernelspec": {
   "display_name": "Python 3 (ipykernel)",
   "language": "python",
   "name": "python3"
  },
  "language_info": {
   "codemirror_mode": {
    "name": "ipython",
    "version": 3
   },
   "file_extension": ".py",
   "mimetype": "text/x-python",
   "name": "python",
   "nbconvert_exporter": "python",
   "pygments_lexer": "ipython3",
   "version": "3.10.8"
  }
 },
 "nbformat": 4,
 "nbformat_minor": 5
}
